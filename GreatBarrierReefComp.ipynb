{
  "cells": [
    {
      "cell_type": "markdown",
      "source": [
        "**This work consists of two parts:**\n",
        "\n",
        "1. Utilize YOLOv5 model\n",
        "2. Larger resolution inference\n",
        "\n",
        "**Contest Link:** [Tensorflow - Help Protect the Great Barrier Reef](https://www.kaggle.com/c/tensorflow-great-barrier-reef)\n",
        "\n",
        "**Objective:** Detect crown-of-thorns starfish in underwater image data"
      ],
      "metadata": {
        "id": "IUfVMo2tKZdI"
      },
      "id": "IUfVMo2tKZdI"
    },
    {
      "cell_type": "code",
      "execution_count": 1,
      "id": "3d5a9af9",
      "metadata": {
        "_cell_guid": "b1076dfc-b9ad-4769-8c92-a6c4dae69d19",
        "_uuid": "8f2839f25d086af736a60e9eeb907d3b93b6e0e5",
        "execution": {
          "iopub.execute_input": "2022-02-10T19:29:31.322246Z",
          "iopub.status.busy": "2022-02-10T19:29:31.321471Z",
          "iopub.status.idle": "2022-02-10T19:29:32.863203Z",
          "shell.execute_reply": "2022-02-10T19:29:32.862069Z",
          "shell.execute_reply.started": "2022-02-10T03:03:06.967442Z"
        },
        "papermill": {
          "duration": 1.571586,
          "end_time": "2022-02-10T19:29:32.863369",
          "exception": false,
          "start_time": "2022-02-10T19:29:31.291783",
          "status": "completed"
        },
        "tags": [],
        "id": "3d5a9af9"
      },
      "outputs": [],
      "source": [
        "import numpy as np\n",
        "from tqdm.notebook import tqdm\n",
        "tqdm.pandas()\n",
        "import pandas as pd\n",
        "import os\n",
        "import cv2\n",
        "import matplotlib.pyplot as plt\n",
        "import glob\n",
        "import shutil\n",
        "import sys\n",
        "sys.path.append('../input/tensorflow-great-barrier-reef')\n",
        "import torch\n",
        "from PIL import Image\n",
        "import ast"
      ]
    },
    {
      "cell_type": "markdown",
      "id": "5da0fa6b",
      "metadata": {
        "papermill": {
          "duration": 0.019723,
          "end_time": "2022-02-10T19:29:32.903453",
          "exception": false,
          "start_time": "2022-02-10T19:29:32.883730",
          "status": "completed"
        },
        "tags": [],
        "id": "5da0fa6b"
      },
      "source": [
        "Key Points\n",
        "\n",
        "* Submit prediction using the provided **python time-series API**\n",
        "* Each prediction row needs to include all bounding boxes for the image. Submission format is **COCO** which means `[x_min, y_min, width, height]`\n",
        "* Competition metric `F2` tolerates some false positives (FP) in order to ensure very few starfish are missed. This means tackling **false negatives (FN)** is more important than false positives (FP).\n",
        "$$F2 = 5 \\cdot \\frac{precision \\cdot recall}{4\\cdot precision + recall}$$"
      ]
    },
    {
      "cell_type": "code",
      "execution_count": 2,
      "id": "9943ea8a",
      "metadata": {
        "execution": {
          "iopub.execute_input": "2022-02-10T19:29:32.951655Z",
          "iopub.status.busy": "2022-02-10T19:29:32.950678Z",
          "iopub.status.idle": "2022-02-10T19:29:32.952458Z",
          "shell.execute_reply": "2022-02-10T19:29:32.952993Z",
          "shell.execute_reply.started": "2022-02-10T03:03:08.659049Z"
        },
        "papermill": {
          "duration": 0.029143,
          "end_time": "2022-02-10T19:29:32.953126",
          "exception": false,
          "start_time": "2022-02-10T19:29:32.923983",
          "status": "completed"
        },
        "tags": [],
        "id": "9943ea8a"
      },
      "outputs": [],
      "source": [
        "ROOT_DIR  = '/kaggle/input/tensorflow-great-barrier-reef/'\n",
        "weights_path = '../input/yolov5-1920-4/' # ../input/yolov5-1920-4/best.pt\n",
        "\n",
        "CKPT_PATH = '../input/ensembled-models/f2_sub2.pt'\n",
        "IMG_SIZE  = 7200\n",
        "CONF      = 0.5     # 1920 * 3 + conf - 0.3\n",
        "IOU       = 0.5\n",
        "AUGMENT   = True    # TTA will run for an hour, will gain improvement\n",
        "TRACKING  = True\n",
        "FDA_aug   = False"
      ]
    },
    {
      "cell_type": "markdown",
      "id": "297a20ee",
      "metadata": {
        "papermill": {
          "duration": 0.019844,
          "end_time": "2022-02-10T19:29:32.992256",
          "exception": false,
          "start_time": "2022-02-10T19:29:32.972412",
          "status": "completed"
        },
        "tags": [],
        "id": "297a20ee"
      },
      "source": [
        "Tracker"
      ]
    },
    {
      "cell_type": "code",
      "execution_count": null,
      "id": "738f4c62",
      "metadata": {
        "execution": {
          "iopub.execute_input": "2022-02-10T19:29:33.049354Z",
          "iopub.status.busy": "2022-02-10T19:29:33.044067Z",
          "iopub.status.idle": "2022-02-10T19:30:50.490476Z",
          "shell.execute_reply": "2022-02-10T19:30:50.489764Z",
          "shell.execute_reply.started": "2022-02-10T03:03:08.666546Z"
        },
        "papermill": {
          "duration": 77.478627,
          "end_time": "2022-02-10T19:30:50.490662",
          "exception": false,
          "start_time": "2022-02-10T19:29:33.012035",
          "status": "completed"
        },
        "tags": [],
        "id": "738f4c62"
      },
      "outputs": [],
      "source": [
        "# if TRACKING:\n",
        "# Dependencies\n",
        "%cd /kaggle/input/norfair031py3/\n",
        "!pip install commonmark-0.9.1-py2.py3-none-any.whl -f ./ --no-index\n",
        "!pip install rich-9.13.0-py3-none-any.whl\n",
        "\n",
        "!mkdir /kaggle/working/tmp\n",
        "!cp -r /kaggle/input/norfair031py3/filterpy-1.4.5/filterpy-1.4.5/ /kaggle/working/tmp/\n",
        "%cd /kaggle/working/tmp/filterpy-1.4.5/\n",
        "!pip install .\n",
        "!rm -rf /kaggle/working/tmp\n",
        "\n",
        "%cd /kaggle/input/norfair031py3/\n",
        "!pip install norfair-0.3.1-py3-none-any.whl -f ./ --no-index\n",
        "%cd /kaggle/working/\n",
        "\n",
        "from norfair import Detection, Tracker\n",
        "\n",
        "def to_norfair(detects, frame_id):\n",
        "    result = []\n",
        "    for x_min, y_min, x_max, y_max, score in detects:\n",
        "        xc, yc = (x_min + x_max) / 2, (y_min + y_max) / 2\n",
        "        w, h = x_max - x_min, y_max - y_min\n",
        "        result.append(Detection(points=np.array([xc, yc]), scores=np.array([score]), data=np.array([w, h, frame_id])))\n",
        "    return result\n",
        "\n",
        "# Euclidean distance function to match detections on this frame with tracked_objects from previous frames\n",
        "def euclidean_distance(detection, tracked_object):\n",
        "    return np.linalg.norm(detection.points - tracked_object.estimate)\n",
        "\n",
        "tracker = Tracker(\n",
        "    distance_function = euclidean_distance,\n",
        "    distance_threshold = 30,\n",
        "    hit_inertia_min = 3,\n",
        "    hit_inertia_max = 6,\n",
        "    initialization_delay = 1,\n",
        ")\n",
        "frame_id = 0\n"
      ]
    },
    {
      "cell_type": "code",
      "execution_count": 8,
      "id": "c9327b6b",
      "metadata": {
        "execution": {
          "iopub.execute_input": "2022-02-10T19:30:50.575023Z",
          "iopub.status.busy": "2022-02-10T19:30:50.573233Z",
          "iopub.status.idle": "2022-02-10T19:30:50.576080Z",
          "shell.execute_reply": "2022-02-10T19:30:50.576740Z",
          "shell.execute_reply.started": "2022-02-10T03:04:25.100138Z"
        },
        "papermill": {
          "duration": 0.049116,
          "end_time": "2022-02-10T19:30:50.576926",
          "exception": false,
          "start_time": "2022-02-10T19:30:50.527810",
          "status": "completed"
        },
        "tags": [],
        "id": "c9327b6b"
      },
      "outputs": [],
      "source": [
        "def get_path(row):\n",
        "    row['image_path'] = f'{ROOT_DIR}/train_images/video_{row.video_id}/{row.video_frame}.jpg'\n",
        "    return row"
      ]
    },
    {
      "cell_type": "code",
      "execution_count": null,
      "id": "1e41d919",
      "metadata": {
        "execution": {
          "iopub.execute_input": "2022-02-10T19:30:50.664458Z",
          "iopub.status.busy": "2022-02-10T19:30:50.663284Z",
          "iopub.status.idle": "2022-02-10T19:31:06.308174Z",
          "shell.execute_reply": "2022-02-10T19:31:06.308602Z",
          "shell.execute_reply.started": "2022-02-10T03:04:25.109807Z"
        },
        "papermill": {
          "duration": 15.692555,
          "end_time": "2022-02-10T19:31:06.308774",
          "exception": false,
          "start_time": "2022-02-10T19:30:50.616219",
          "status": "completed"
        },
        "tags": [],
        "id": "1e41d919"
      },
      "outputs": [],
      "source": [
        "# Train data\n",
        "df = pd.read_csv(f'{ROOT_DIR}/train.csv')\n",
        "df = df.progress_apply(get_path, axis=1)\n",
        "df['annotations'] = df['annotations'].progress_apply(lambda x: ast.literal_eval(x))\n",
        "display(df.head(2))"
      ]
    },
    {
      "cell_type": "markdown",
      "id": "1a056aad",
      "metadata": {
        "papermill": {
          "duration": 0.025921,
          "end_time": "2022-02-10T19:31:06.361197",
          "exception": false,
          "start_time": "2022-02-10T19:31:06.335276",
          "status": "completed"
        },
        "tags": [],
        "id": "1a056aad"
      },
      "source": [
        "Number of Bounding Boxes"
      ]
    },
    {
      "cell_type": "code",
      "execution_count": null,
      "id": "889f1f2c",
      "metadata": {
        "execution": {
          "iopub.execute_input": "2022-02-10T19:31:06.439577Z",
          "iopub.status.busy": "2022-02-10T19:31:06.438757Z",
          "iopub.status.idle": "2022-02-10T19:31:06.510081Z",
          "shell.execute_reply": "2022-02-10T19:31:06.510711Z",
          "shell.execute_reply.started": "2022-02-10T03:04:40.820195Z"
        },
        "papermill": {
          "duration": 0.123255,
          "end_time": "2022-02-10T19:31:06.510905",
          "exception": false,
          "start_time": "2022-02-10T19:31:06.387650",
          "status": "completed"
        },
        "tags": [],
        "id": "889f1f2c"
      },
      "outputs": [],
      "source": [
        "df['num_bbox'] = df['annotations'].progress_apply(lambda x: len(x))\n",
        "data = (df.num_bbox>0).value_counts()/len(df)*100\n",
        "print(f\"No BBox: {data[0]:0.2f}% | With BBox: {data[1]:0.2f}%\")"
      ]
    },
    {
      "cell_type": "markdown",
      "id": "ce564f3a",
      "metadata": {
        "papermill": {
          "duration": 0.02702,
          "end_time": "2022-02-10T19:31:06.565268",
          "exception": false,
          "start_time": "2022-02-10T19:31:06.538248",
          "status": "completed"
        },
        "tags": [],
        "id": "ce564f3a"
      },
      "source": [
        "Helper"
      ]
    },
    {
      "cell_type": "code",
      "execution_count": 11,
      "id": "20bca95f",
      "metadata": {
        "execution": {
          "iopub.execute_input": "2022-02-10T19:31:06.625089Z",
          "iopub.status.busy": "2022-02-10T19:31:06.624230Z",
          "iopub.status.idle": "2022-02-10T19:31:06.626701Z",
          "shell.execute_reply": "2022-02-10T19:31:06.626230Z",
          "shell.execute_reply.started": "2022-02-10T03:04:40.922782Z"
        },
        "papermill": {
          "duration": 0.03423,
          "end_time": "2022-02-10T19:31:06.626819",
          "exception": false,
          "start_time": "2022-02-10T19:31:06.592589",
          "status": "completed"
        },
        "tags": [],
        "id": "20bca95f"
      },
      "outputs": [],
      "source": [
        "# check https://github.com/awsaf49/bbox for source code of the following utility functions\n",
        "# from bbox.utils import coco2yolo, coco2voc, voc2yolo\n",
        "# from bbox.utils import draw_bboxes, load_image\n",
        "# from bbox.utils import clip_bbox, str2annot, annot2str\n",
        "\n",
        "# def get_bbox(annots):\n",
        "#     bboxes = [list(annot.values()) for annot in annots]\n",
        "#     return bboxes\n",
        "\n",
        "# def get_imgsize(row):\n",
        "#     row['width'], row['height'] = imagesize.get(row['image_path'])\n",
        "#     return row\n",
        "\n",
        "# np.random.seed(32)\n",
        "# colors = [(np.random.randint(255), np.random.randint(255), np.random.randint(255))\\\n",
        "#           for idx in range(1)]"
      ]
    },
    {
      "cell_type": "code",
      "execution_count": null,
      "id": "b9c30eff",
      "metadata": {
        "_kg_hide-input": true,
        "execution": {
          "iopub.execute_input": "2022-02-10T19:31:06.718456Z",
          "iopub.status.busy": "2022-02-10T19:31:06.717763Z",
          "iopub.status.idle": "2022-02-10T19:31:06.720844Z",
          "shell.execute_reply": "2022-02-10T19:31:06.720361Z",
          "shell.execute_reply.started": "2022-02-10T03:04:40.929047Z"
        },
        "papermill": {
          "duration": 0.067218,
          "end_time": "2022-02-10T19:31:06.721020",
          "exception": false,
          "start_time": "2022-02-10T19:31:06.653802",
          "status": "completed"
        },
        "tags": [],
        "id": "b9c30eff"
      },
      "outputs": [],
      "source": [
        "def voc2yolo(bboxes, image_height=720, image_width=1280):\n",
        "    \"\"\"\n",
        "    voc  => [x1, y1, x2, y1]\n",
        "    yolo => [xmid, ymid, w, h] (normalized)\n",
        "    \"\"\"\n",
        "\n",
        "    bboxes = bboxes.copy().astype(float) # otherwise all values will be 0 as voc_pascal dtype is np.int\n",
        "\n",
        "    bboxes[..., [0, 2]] = bboxes[..., [0, 2]]/ image_width\n",
        "    bboxes[..., [1, 3]] = bboxes[..., [1, 3]]/ image_height\n",
        "\n",
        "    w = bboxes[..., 2] - bboxes[..., 0]\n",
        "    h = bboxes[..., 3] - bboxes[..., 1]\n",
        "\n",
        "    bboxes[..., 0] = bboxes[..., 0] + w/2\n",
        "    bboxes[..., 1] = bboxes[..., 1] + h/2\n",
        "    bboxes[..., 2] = w\n",
        "    bboxes[..., 3] = h\n",
        "\n",
        "    return bboxes\n",
        "\n",
        "def yolo2voc(bboxes, image_height=720, image_width=1280):\n",
        "    \"\"\"\n",
        "    yolo => [xmid, ymid, w, h] (normalized)\n",
        "    voc  => [x1, y1, x2, y1]\n",
        "    \"\"\"\n",
        "    bboxes = bboxes.copy().astype(float) # otherwise all values will be 0 as voc_pascal dtype is np.int\n",
        "\n",
        "    bboxes[..., [0, 2]] = bboxes[..., [0, 2]]* image_width\n",
        "    bboxes[..., [1, 3]] = bboxes[..., [1, 3]]* image_height\n",
        "\n",
        "    bboxes[..., [0, 1]] = bboxes[..., [0, 1]] - bboxes[..., [2, 3]]/2\n",
        "    bboxes[..., [2, 3]] = bboxes[..., [0, 1]] + bboxes[..., [2, 3]]\n",
        "\n",
        "    return bboxes\n",
        "\n",
        "def coco2yolo(bboxes, image_height=720, image_width=1280):\n",
        "    \"\"\"\n",
        "    coco => [xmin, ymin, w, h]\n",
        "    yolo => [xmid, ymid, w, h] (normalized)\n",
        "    \"\"\"\n",
        "\n",
        "    bboxes = bboxes.copy().astype(float) # otherwise all values will be 0 as voc_pascal dtype is np.int\n",
        "\n",
        "    # normalizing\n",
        "    bboxes[..., [0, 2]]= bboxes[..., [0, 2]]/ image_width\n",
        "    bboxes[..., [1, 3]]= bboxes[..., [1, 3]]/ image_height\n",
        "\n",
        "    # conversion (xmin, ymin) => (xmid, ymid)\n",
        "    bboxes[..., [0, 1]] = bboxes[..., [0, 1]] + bboxes[..., [2, 3]]/2\n",
        "\n",
        "    return bboxes\n",
        "\n",
        "def yolo2coco(bboxes, image_height=720, image_width=1280):\n",
        "    \"\"\"\n",
        "    yolo => [xmid, ymid, w, h] (normalized)\n",
        "    coco => [xmin, ymin, w, h]\n",
        "\n",
        "    \"\"\"\n",
        "    bboxes = bboxes.copy().astype(float) # otherwise all values will be 0 as voc_pascal dtype is np.int\n",
        "\n",
        "    # denormalizing\n",
        "    bboxes[..., [0, 2]]= bboxes[..., [0, 2]]* image_width\n",
        "    bboxes[..., [1, 3]]= bboxes[..., [1, 3]]* image_height\n",
        "\n",
        "    # conversion (xmid, ymid) => (xmin, ymin)\n",
        "    bboxes[..., [0, 1]] = bboxes[..., [0, 1]] - bboxes[..., [2, 3]]/2\n",
        "\n",
        "    return bboxes\n",
        "\n",
        "def voc2coco(bboxes, image_height=720, image_width=1280):\n",
        "    bboxes  = voc2yolo(bboxes, image_height, image_width)\n",
        "    bboxes  = yolo2coco(bboxes, image_height, image_width)\n",
        "    return bboxes\n",
        "\n",
        "def load_image(image_path):\n",
        "    return cv2.cvtColor(cv2.imread(image_path), cv2.COLOR_BGR2RGB)\n",
        "\n",
        "def plot_one_box(x, img, color=None, label=None, line_thickness=None):\n",
        "    # Plots one bounding box on image img\n",
        "    tl = line_thickness or round(0.002 * (img.shape[0] + img.shape[1]) / 2) + 1  # line/font thickness\n",
        "    color = color or [random.randint(0, 255) for _ in range(3)]\n",
        "    c1, c2 = (int(x[0]), int(x[1])), (int(x[2]), int(x[3]))\n",
        "    cv2.rectangle(img, c1, c2, color, thickness=tl, lineType=cv2.LINE_AA)\n",
        "\n",
        "    if label:\n",
        "        tf = max(tl - 1, 1)  # font thickness\n",
        "        t_size = cv2.getTextSize(label, 0, fontScale=tl / 3, thickness=tf)[0]\n",
        "        c2 = c1[0] + t_size[0], c1[1] - t_size[1] - 3\n",
        "        cv2.rectangle(img, c1, c2, color, -1, cv2.LINE_AA)  # filled\n",
        "        cv2.putText(img, label, (c1[0], c1[1] - 2), 0, tl / 3, [225, 255, 255], thickness=tf, lineType=cv2.LINE_AA)\n",
        "\n",
        "def draw_bboxes(img, bboxes, classes, class_ids, colors = None, show_classes = None, bbox_format = 'yolo', class_name = False, line_thickness = 2):\n",
        "\n",
        "    image = img.copy()\n",
        "    show_classes = classes if show_classes is None else show_classes\n",
        "    colors = (0, 255 ,0) if colors is None else colors\n",
        "\n",
        "    if bbox_format == 'yolo':\n",
        "\n",
        "        for idx in range(len(bboxes)):\n",
        "\n",
        "            bbox   = bboxes[idx]\n",
        "            cls    = classes[idx]\n",
        "            cls_id = class_ids[idx]\n",
        "            color  = colors[cls_id] if type(colors) is list else colors\n",
        "\n",
        "            if cls in show_classes:\n",
        "\n",
        "                x1 = round(float(bbox[0])*image.shape[1])\n",
        "                y1 = round(float(bbox[1])*image.shape[0])\n",
        "                w  = round(float(bbox[2])*image.shape[1]/2) #w/2\n",
        "                h  = round(float(bbox[3])*image.shape[0]/2)\n",
        "\n",
        "                voc_bbox = (x1-w, y1-h, x1+w, y1+h)\n",
        "                plot_one_box(voc_bbox,\n",
        "                             image,\n",
        "                             color = color,\n",
        "                             label = cls if class_name else str(get_label(cls)),\n",
        "                             line_thickness = line_thickness)\n",
        "\n",
        "    elif bbox_format == 'coco':\n",
        "\n",
        "        for idx in range(len(bboxes)):\n",
        "\n",
        "            bbox   = bboxes[idx]\n",
        "            cls    = classes[idx]\n",
        "            cls_id = class_ids[idx]\n",
        "            color  = colors[cls_id] if type(colors) is list else colors\n",
        "\n",
        "            if cls in show_classes:\n",
        "                x1 = int(round(bbox[0]))\n",
        "                y1 = int(round(bbox[1]))\n",
        "                w  = int(round(bbox[2]))\n",
        "                h  = int(round(bbox[3]))\n",
        "\n",
        "                voc_bbox = (x1, y1, x1+w, y1+h)\n",
        "                plot_one_box(voc_bbox,\n",
        "                             image,\n",
        "                             color = color,\n",
        "                             label = cls if class_name else str(cls_id),\n",
        "                             line_thickness = line_thickness)\n",
        "\n",
        "    elif bbox_format == 'voc_pascal':\n",
        "\n",
        "        for idx in range(len(bboxes)):\n",
        "\n",
        "            bbox   = bboxes[idx]\n",
        "            cls    = classes[idx]\n",
        "            cls_id = class_ids[idx]\n",
        "            color  = colors[cls_id] if type(colors) is list else colors\n",
        "\n",
        "            if cls in show_classes:\n",
        "                x1 = int(round(bbox[0]))\n",
        "                y1 = int(round(bbox[1]))\n",
        "                x2 = int(round(bbox[2]))\n",
        "                y2 = int(round(bbox[3]))\n",
        "                voc_bbox = (x1, y1, x2, y2)\n",
        "                plot_one_box(voc_bbox,\n",
        "                             image,\n",
        "                             color = color,\n",
        "                             label = cls if class_name else str(cls_id),\n",
        "                             line_thickness = line_thickness)\n",
        "    else:\n",
        "        raise ValueError('wrong bbox format')\n",
        "\n",
        "    return image\n",
        "\n",
        "def get_bbox(annots):\n",
        "    bboxes = [list(annot.values()) for annot in annots]\n",
        "    return bboxes\n",
        "\n",
        "def get_imgsize(row):\n",
        "    row['width'], row['height'] = imagesize.get(row['image_path'])\n",
        "    return row\n",
        "\n",
        "np.random.seed(32)\n",
        "colors = [(np.random.randint(255), np.random.randint(255), np.random.randint(255))\\\n",
        "          for idx in range(1)]"
      ]
    },
    {
      "cell_type": "code",
      "execution_count": null,
      "id": "00c20c2a",
      "metadata": {
        "_kg_hide-input": true,
        "execution": {
          "iopub.execute_input": "2022-02-10T19:31:06.780649Z",
          "iopub.status.busy": "2022-02-10T19:31:06.779921Z",
          "iopub.status.idle": "2022-02-10T19:31:08.127873Z",
          "shell.execute_reply": "2022-02-10T19:31:08.128716Z",
          "shell.execute_reply.started": "2022-02-10T03:04:40.972451Z"
        },
        "papermill": {
          "duration": 1.380552,
          "end_time": "2022-02-10T19:31:08.128898",
          "exception": false,
          "start_time": "2022-02-10T19:31:06.748346",
          "status": "completed"
        },
        "tags": [],
        "id": "00c20c2a"
      },
      "outputs": [],
      "source": [
        "!mkdir -p /root/.config/Ultralytics\n",
        "!cp /kaggle/input/yolov5-font/Arial.ttf /root/.config/Ultralytics/"
      ]
    },
    {
      "cell_type": "code",
      "execution_count": null,
      "id": "806cd831",
      "metadata": {
        "_kg_hide-input": true,
        "execution": {
          "iopub.execute_input": "2022-02-10T19:31:08.191247Z",
          "iopub.status.busy": "2022-02-10T19:31:08.189587Z",
          "iopub.status.idle": "2022-02-10T19:31:08.191883Z",
          "shell.execute_reply": "2022-02-10T19:31:08.192299Z",
          "shell.execute_reply.started": "2022-02-10T03:04:42.319237Z"
        },
        "papermill": {
          "duration": 0.035873,
          "end_time": "2022-02-10T19:31:08.192441",
          "exception": false,
          "start_time": "2022-02-10T19:31:08.156568",
          "status": "completed"
        },
        "tags": [],
        "id": "806cd831"
      },
      "outputs": [],
      "source": [
        "def load_model(ckpt_path, conf=0.25, iou=0.50):\n",
        "    model = torch.hub.load('../input/d/awsaf49/yolov5-lib-ds',\n",
        "                           'custom',\n",
        "                           path=ckpt_path,\n",
        "                           source='local',\n",
        "                           force_reload=True)  # local repo\n",
        "    model.conf = conf  # NMS confidence threshold\n",
        "    model.iou  = iou   # NMS IoU threshold\n",
        "    model.classes = None   # (optional list) filter by class, i.e. = [0, 15, 16] for persons, dogs, and cats\n",
        "    model.multi_label = False  # NMS multiple labels per box\n",
        "    model.max_det = 1000  # maximum number of detections per image\n",
        "    return model"
      ]
    },
    {
      "cell_type": "markdown",
      "id": "53e9ac33",
      "metadata": {
        "papermill": {
          "duration": 0.026711,
          "end_time": "2022-02-10T19:31:08.246103",
          "exception": false,
          "start_time": "2022-02-10T19:31:08.219392",
          "status": "completed"
        },
        "tags": [],
        "id": "53e9ac33"
      },
      "source": [
        "Inference"
      ]
    },
    {
      "cell_type": "markdown",
      "id": "ff67d9d5",
      "metadata": {
        "papermill": {
          "duration": 0.0264,
          "end_time": "2022-02-10T19:31:08.299242",
          "exception": false,
          "start_time": "2022-02-10T19:31:08.272842",
          "status": "completed"
        },
        "tags": [],
        "id": "ff67d9d5"
      },
      "source": [
        "Helper"
      ]
    },
    {
      "cell_type": "code",
      "execution_count": null,
      "id": "45a0e161",
      "metadata": {
        "_kg_hide-input": true,
        "execution": {
          "iopub.execute_input": "2022-02-10T19:31:08.363874Z",
          "iopub.status.busy": "2022-02-10T19:31:08.363283Z",
          "iopub.status.idle": "2022-02-10T19:31:08.367089Z",
          "shell.execute_reply": "2022-02-10T19:31:08.366442Z",
          "shell.execute_reply.started": "2022-02-10T03:04:42.32789Z"
        },
        "papermill": {
          "duration": 0.041007,
          "end_time": "2022-02-10T19:31:08.367209",
          "exception": false,
          "start_time": "2022-02-10T19:31:08.326202",
          "status": "completed"
        },
        "tags": [],
        "id": "45a0e161"
      },
      "outputs": [],
      "source": [
        "def predict(model, img, size=768, augment=False):\n",
        "    height, width = img.shape[:2]\n",
        "    results = model(img, size=size, augment=augment)  # custom inference size\n",
        "    preds   = results.pandas().xyxy[0]\n",
        "    bboxes  = preds[['xmin','ymin','xmax','ymax']].values\n",
        "\n",
        "    if len(bboxes):\n",
        "        bboxes  = voc2coco(bboxes,height,width).astype(int)\n",
        "        confs   = preds.confidence.values\n",
        "        return bboxes, confs\n",
        "    else:\n",
        "        return [],[]\n",
        "\n",
        "def format_prediction(bboxes, confs):\n",
        "    annot = ''\n",
        "    if len(bboxes)>0:\n",
        "        for idx in range(len(bboxes)):\n",
        "            xmin, ymin, w, h = bboxes[idx]\n",
        "            conf             = confs[idx]\n",
        "            annot += f'{conf} {xmin} {ymin} {w} {h}'\n",
        "            annot +=' '\n",
        "        annot = annot.strip(' ')\n",
        "    return annot\n",
        "\n",
        "def show_img(img, bboxes, bbox_format='yolo'):\n",
        "    names  = ['starfish']*len(bboxes)\n",
        "    labels = [0]*len(bboxes)\n",
        "    img    = draw_bboxes(img = img,\n",
        "                           bboxes = bboxes,\n",
        "                           classes = names,\n",
        "                           class_ids = labels,\n",
        "                           class_name = True,\n",
        "                           colors = colors,\n",
        "                           bbox_format = bbox_format,\n",
        "                           line_thickness = 2)\n",
        "    return Image.fromarray(img).resize((800, 400))"
      ]
    },
    {
      "cell_type": "code",
      "execution_count": null,
      "id": "744ad4d7",
      "metadata": {
        "execution": {
          "iopub.execute_input": "2022-02-10T19:31:08.431129Z",
          "iopub.status.busy": "2022-02-10T19:31:08.430226Z",
          "iopub.status.idle": "2022-02-10T19:31:08.431915Z",
          "shell.execute_reply": "2022-02-10T19:31:08.432419Z",
          "shell.execute_reply.started": "2022-02-10T03:04:42.341937Z"
        },
        "papermill": {
          "duration": 0.038296,
          "end_time": "2022-02-10T19:31:08.432548",
          "exception": false,
          "start_time": "2022-02-10T19:31:08.394252",
          "status": "completed"
        },
        "tags": [],
        "id": "744ad4d7"
      },
      "outputs": [],
      "source": [
        "def tracking_function(tracker, frame_id, bboxes, scores):\n",
        "\n",
        "    detects = []\n",
        "    predictions = []\n",
        "\n",
        "    if len(scores) > 0:\n",
        "        for i in range(len(bboxes)):\n",
        "            box = bboxes[i]\n",
        "            score = scores[i]\n",
        "            x_min = int(box[0])\n",
        "            y_min = int(box[1])\n",
        "            bbox_width = int(box[2])\n",
        "            bbox_height = int(box[3])\n",
        "            detects.append([x_min, y_min, x_min+bbox_width, y_min+bbox_height, score])\n",
        "            predictions.append('{:.2f} {} {} {} {}'.format(score, x_min, y_min, bbox_width, bbox_height))\n",
        "\n",
        "    # Update tracks using detects from the current frame\n",
        "    tracked_objects = tracker.update(detections=to_norfair(detects, frame_id))\n",
        "    for tobj in tracked_objects:\n",
        "        bbox_width, bbox_height, last_detected_frame_id = tobj.last_detection.data\n",
        "        if last_detected_frame_id == frame_id:  # Skip objects that were detected on the current frame\n",
        "            continue\n",
        "        # Add objects that have no detections on the current frame to predictions\n",
        "        xc, yc = tobj.estimate[0]\n",
        "        x_min, y_min = int(round(xc - bbox_width / 2)), int(round(yc - bbox_height / 2))\n",
        "        score = tobj.last_detection.scores[0]\n",
        "\n",
        "        predictions.append('{:.2f} {} {} {} {}'.format(score, x_min, y_min, bbox_width, bbox_height))\n",
        "\n",
        "    return predictions"
      ]
    },
    {
      "cell_type": "code",
      "execution_count": null,
      "id": "0f4b4dc0",
      "metadata": {
        "execution": {
          "iopub.execute_input": "2022-02-10T19:31:08.491902Z",
          "iopub.status.busy": "2022-02-10T19:31:08.491053Z",
          "iopub.status.idle": "2022-02-10T19:31:08.493464Z",
          "shell.execute_reply": "2022-02-10T19:31:08.493050Z",
          "shell.execute_reply.started": "2022-02-10T03:04:42.355863Z"
        },
        "papermill": {
          "duration": 0.033956,
          "end_time": "2022-02-10T19:31:08.493576",
          "exception": false,
          "start_time": "2022-02-10T19:31:08.459620",
          "status": "completed"
        },
        "tags": [],
        "id": "0f4b4dc0"
      },
      "outputs": [],
      "source": [
        "def extract_bbox(anno):\n",
        "    for idx, a in enumerate(anno):\n",
        "        try:\n",
        "            anno[idx] = [a['x'], a['y'], a['width'], a['height']]\n",
        "        except:\n",
        "            break\n",
        "    return anno"
      ]
    },
    {
      "cell_type": "markdown",
      "id": "d7101c4c",
      "metadata": {
        "papermill": {
          "duration": 0.026764,
          "end_time": "2022-02-10T19:31:08.547022",
          "exception": false,
          "start_time": "2022-02-10T19:31:08.520258",
          "status": "completed"
        },
        "tags": [],
        "id": "d7101c4c"
      },
      "source": [
        "Run inference on training"
      ]
    },
    {
      "cell_type": "code",
      "execution_count": null,
      "id": "2fb28634",
      "metadata": {
        "execution": {
          "iopub.execute_input": "2022-02-10T19:31:08.612932Z",
          "iopub.status.busy": "2022-02-10T19:31:08.605110Z",
          "iopub.status.idle": "2022-02-10T19:31:09.283068Z",
          "shell.execute_reply": "2022-02-10T19:31:09.282234Z",
          "shell.execute_reply.started": "2022-02-10T03:04:42.368751Z"
        },
        "papermill": {
          "duration": 0.709268,
          "end_time": "2022-02-10T19:31:09.283199",
          "exception": false,
          "start_time": "2022-02-10T19:31:08.573931",
          "status": "completed"
        },
        "tags": [],
        "id": "2fb28634"
      },
      "outputs": [],
      "source": [
        "!cp ../input/yolov5-font/Arial.ttf /root/.config/Ultralytics/"
      ]
    },
    {
      "cell_type": "code",
      "execution_count": null,
      "id": "ab012ab5",
      "metadata": {
        "_kg_hide-input": true,
        "execution": {
          "iopub.execute_input": "2022-02-10T19:31:09.343569Z",
          "iopub.status.busy": "2022-02-10T19:31:09.342678Z",
          "iopub.status.idle": "2022-02-10T19:31:09.345227Z",
          "shell.execute_reply": "2022-02-10T19:31:09.344758Z",
          "shell.execute_reply.started": "2022-02-10T03:04:43.037923Z"
        },
        "papermill": {
          "duration": 0.034722,
          "end_time": "2022-02-10T19:31:09.345344",
          "exception": false,
          "start_time": "2022-02-10T19:31:09.310622",
          "status": "completed"
        },
        "tags": [],
        "id": "ab012ab5"
      },
      "outputs": [],
      "source": [
        "# print(\"Use TRACKING...\")\n",
        "# tracker = Tracker(\n",
        "# distance_function=euclidean_distance,\n",
        "# distance_threshold = 30,\n",
        "# hit_inertia_min = 3,\n",
        "# hit_inertia_max = 6,\n",
        "# initialization_delay = 1,\n",
        "# )\n",
        "\n",
        "# model = load_model(CKPT_PATH, conf=CONF, iou=IOU)\n",
        "# image_paths = df[df.num_bbox>1].sample(100)\n",
        "# frame_id = 0\n",
        "# for idx, path in enumerate(image_paths.image_path.tolist()):\n",
        "#     img = cv2.imread(path)[...,::-1]\n",
        "#     if FDA_aug:\n",
        "#         img = FDA_trans(image=img)['image']\n",
        "#     bboxes, confis = predict(model, img, size=IMG_SIZE, augment=AUGMENT)\n",
        "#     predict_box = tracking_function(tracker, frame_id, bboxes, confis)\n",
        "\n",
        "#     if len(predict_box) > 0:\n",
        "#         box = [list(map(int,box.split(' ')[1:])) for box in predict_box]\n",
        "#     else:\n",
        "#         box = []\n",
        "#     display(show_img(img, box, bbox_format='coco'))\n",
        "#     display(show_img(img, bboxes, bbox_format='coco'))  # Predict\n",
        "#     display(show_img(img, extract_bbox(image_paths.iloc[idx].annotations), bbox_format='coco'))\n",
        "#     if idx > 3:\n",
        "#         break\n",
        "#     frame_id += 1\n",
        "\n",
        "# # print(\"Not Using TRACKING...\")\n",
        "# # model = load_model(CKPT_PATH, conf=CONF, iou=IOU)\n",
        "\n",
        "# # # d = df[df.num_bbox>1].sample(100)\n",
        "\n",
        "# # for idx, path in enumerate(image_paths.image_path.tolist()):\n",
        "# #     img = cv2.imread(path)[...,::-1]\n",
        "# #     bboxes, confis = predict(model, img, size=IMG_SIZE, augment=AUGMENT)\n",
        "# # #     print(bboxes, extract_bbox(d.iloc[idx].annotations), confis)\n",
        "\n",
        "\n",
        "# #     display(show_img(img, extract_bbox(image_paths.iloc[idx].annotations), bbox_format='coco'))\n",
        "\n",
        "# #     if idx > 3:\n",
        "# #         break"
      ]
    },
    {
      "cell_type": "markdown",
      "id": "76f5bd0b",
      "metadata": {
        "papermill": {
          "duration": 0.026894,
          "end_time": "2022-02-10T19:31:09.399174",
          "exception": false,
          "start_time": "2022-02-10T19:31:09.372280",
          "status": "completed"
        },
        "tags": [],
        "id": "76f5bd0b"
      },
      "source": [
        "Init Env"
      ]
    },
    {
      "cell_type": "code",
      "execution_count": null,
      "id": "83d02986",
      "metadata": {
        "_kg_hide-input": true,
        "execution": {
          "iopub.execute_input": "2022-02-10T19:31:09.457512Z",
          "iopub.status.busy": "2022-02-10T19:31:09.456882Z",
          "iopub.status.idle": "2022-02-10T19:31:09.483521Z",
          "shell.execute_reply": "2022-02-10T19:31:09.483054Z",
          "shell.execute_reply.started": "2022-02-10T03:04:43.045208Z"
        },
        "papermill": {
          "duration": 0.057629,
          "end_time": "2022-02-10T19:31:09.483659",
          "exception": false,
          "start_time": "2022-02-10T19:31:09.426030",
          "status": "completed"
        },
        "tags": [],
        "id": "83d02986"
      },
      "outputs": [],
      "source": [
        "import greatbarrierreef\n",
        "env = greatbarrierreef.make_env() # initialize the environment\n",
        "iter_test = env.iter_test()       # an iterator which loops over the test set and sample submission"
      ]
    },
    {
      "cell_type": "markdown",
      "id": "c1959837",
      "metadata": {
        "papermill": {
          "duration": 0.026832,
          "end_time": "2022-02-10T19:31:09.538016",
          "exception": false,
          "start_time": "2022-02-10T19:31:09.511184",
          "status": "completed"
        },
        "tags": [],
        "id": "c1959837"
      },
      "source": [
        "Run inference on testing"
      ]
    },
    {
      "cell_type": "code",
      "execution_count": null,
      "id": "32dc1f60",
      "metadata": {
        "execution": {
          "iopub.execute_input": "2022-02-10T19:31:09.597486Z",
          "iopub.status.busy": "2022-02-10T19:31:09.596731Z",
          "iopub.status.idle": "2022-02-10T19:31:10.264747Z",
          "shell.execute_reply": "2022-02-10T19:31:10.264236Z",
          "shell.execute_reply.started": "2022-02-10T03:04:43.084012Z"
        },
        "papermill": {
          "duration": 0.699673,
          "end_time": "2022-02-10T19:31:10.264888",
          "exception": false,
          "start_time": "2022-02-10T19:31:09.565215",
          "status": "completed"
        },
        "tags": [],
        "id": "32dc1f60"
      },
      "outputs": [],
      "source": [
        "!ls /kaggle/working"
      ]
    },
    {
      "cell_type": "code",
      "execution_count": null,
      "id": "a491e749",
      "metadata": {
        "_kg_hide-input": true,
        "execution": {
          "iopub.execute_input": "2022-02-10T19:31:10.331134Z",
          "iopub.status.busy": "2022-02-10T19:31:10.328550Z",
          "iopub.status.idle": "2022-02-10T19:31:23.628822Z",
          "shell.execute_reply": "2022-02-10T19:31:23.627303Z",
          "shell.execute_reply.started": "2022-02-10T03:04:43.750117Z"
        },
        "papermill": {
          "duration": 13.336399,
          "end_time": "2022-02-10T19:31:23.629011",
          "exception": false,
          "start_time": "2022-02-10T19:31:10.292612",
          "status": "completed"
        },
        "tags": [],
        "id": "a491e749"
      },
      "outputs": [],
      "source": [
        "if TRACKING:\n",
        "    tracker = Tracker(\n",
        "    distance_function=euclidean_distance,\n",
        "    distance_threshold = 30,\n",
        "    hit_inertia_min = 3,\n",
        "    hit_inertia_max = 6,\n",
        "    initialization_delay = 1,\n",
        ")\n",
        "\n",
        "    model = load_model(CKPT_PATH, conf=CONF, iou=IOU)\n",
        "\n",
        "    frame_id = 0\n",
        "    for idx, (img, pred_df) in enumerate(tqdm(iter_test)):\n",
        "        if FDA_aug:\n",
        "            img = FDA_trans(image=img)['image']\n",
        "        bboxes, confs  = predict(model, img, size=IMG_SIZE, augment=AUGMENT)\n",
        "\n",
        "        predictions = tracking_function(tracker, frame_id, bboxes, confs)\n",
        "\n",
        "        prediction_str = ' '.join(predictions)\n",
        "        pred_df['annotations'] = prediction_str\n",
        "        env.predict(pred_df)\n",
        "        if frame_id < 3:\n",
        "            if len(predictions) > 0:\n",
        "                box = [list(map(int,box.split(' ')[1:])) for box in predictions]\n",
        "            else:\n",
        "                box = []\n",
        "            display(show_img(img, box, bbox_format='coco'))\n",
        "        frame_id += 1\n",
        "\n",
        "else:\n",
        "    model = load_model(CKPT_PATH, conf=CONF, iou=IOU)\n",
        "    for idx, (img, pred_df) in enumerate(tqdm(iter_test)):\n",
        "        bboxes, confs  = predict(model, img, size=IMG_SIZE, augment=AUGMENT)\n",
        "        annot          = format_prediction(bboxes, confs)\n",
        "        pred_df['annotations'] = annot\n",
        "        env.predict(pred_df)\n",
        "        if idx < 3:\n",
        "            display(show_img(img, bboxes, bbox_format='coco'))\n"
      ]
    },
    {
      "cell_type": "markdown",
      "source": [
        "Check submission"
      ],
      "metadata": {
        "id": "ztxWe8jfK-qr"
      },
      "id": "ztxWe8jfK-qr"
    },
    {
      "cell_type": "code",
      "execution_count": null,
      "id": "6e5cf6fb",
      "metadata": {
        "execution": {
          "iopub.execute_input": "2022-02-10T19:31:24.000005Z",
          "iopub.status.busy": "2022-02-10T19:31:23.992692Z",
          "iopub.status.idle": "2022-02-10T19:31:24.004010Z",
          "shell.execute_reply": "2022-02-10T19:31:24.003486Z",
          "shell.execute_reply.started": "2022-02-10T03:04:55.966893Z"
        },
        "papermill": {
          "duration": 0.100623,
          "end_time": "2022-02-10T19:31:24.004162",
          "exception": false,
          "start_time": "2022-02-10T19:31:23.903539",
          "status": "completed"
        },
        "tags": [],
        "id": "6e5cf6fb"
      },
      "outputs": [],
      "source": [
        "\n",
        "sub_df = pd.read_csv('submission.csv')\n",
        "sub_df.head()"
      ]
    }
  ],
  "metadata": {
    "kernelspec": {
      "display_name": "Python 3",
      "language": "python",
      "name": "python3"
    },
    "language_info": {
      "codemirror_mode": {
        "name": "ipython",
        "version": 3
      },
      "file_extension": ".py",
      "mimetype": "text/x-python",
      "name": "python",
      "nbconvert_exporter": "python",
      "pygments_lexer": "ipython3",
      "version": "3.7.10"
    },
    "papermill": {
      "default_parameters": {},
      "duration": 122.172873,
      "end_time": "2022-02-10T19:31:25.603141",
      "environment_variables": {},
      "exception": null,
      "input_path": "__notebook__.ipynb",
      "output_path": "__notebook__.ipynb",
      "parameters": {},
      "start_time": "2022-02-10T19:29:23.430268",
      "version": "2.3.3"
    },
    "colab": {
      "provenance": []
    }
  },
  "nbformat": 4,
  "nbformat_minor": 5
}